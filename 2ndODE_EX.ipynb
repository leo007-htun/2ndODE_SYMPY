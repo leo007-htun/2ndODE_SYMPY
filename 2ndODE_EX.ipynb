{
 "cells": [
  {
   "cell_type": "code",
   "execution_count": 125,
   "id": "33f6d441-a03c-4fb9-88e2-4cb0131a4f8a",
   "metadata": {},
   "outputs": [],
   "source": [
    "from sympy import *\n",
    "init_printing()\n",
    "x,t = symbols('x t')\n",
    "C1 = Symbol('C1')\n",
    "C2 = Symbol('C2')\n",
    "y = Function('y')(x)\n",
    "dydx=y.diff(x)\n",
    "d2ydx2=y.diff(x,2)\n"
   ]
  },
  {
   "cell_type": "markdown",
   "id": "88a2e7ba-0eb9-421a-b7a8-43f07d7865e9",
   "metadata": {},
   "source": [
    "# FOR COMPLEMENTARY"
   ]
  },
  {
   "cell_type": "code",
   "execution_count": 113,
   "id": "c69c8db3-3463-4518-bcdf-207385bdb039",
   "metadata": {},
   "outputs": [
    {
     "data": {
      "image/png": "[encoded data removed]",
      "text/latex": [
       "$\\displaystyle 8 y{\\left(x \\right)} + 8 \\frac{d^{2}}{d x^{2}} y{\\left(x \\right)} = 0$"
      ],
      "text/plain": [
       "             2          \n",
       "            d           \n",
       "8⋅y(x) + 8⋅───(y(x)) = 0\n",
       "             2          \n",
       "           dx           "
      ]
     },
     "execution_count": 113,
     "metadata": {},
     "output_type": "execute_result"
    }
   ],
   "source": [
    "Eq0 = Eq(8*d2ydx2+0*dydx+8*y,0)\n",
    "Eq0"
   ]
  },
  {
   "cell_type": "code",
   "execution_count": 114,
   "id": "5025e1de-5538-4e45-aa6b-132738b96aea",
   "metadata": {},
   "outputs": [
    {
     "data": {
      "image/png": "[encoded data removed]",
      "text/latex": [
       "$\\displaystyle y{\\left(x \\right)} = C_{1} \\sin{\\left(x \\right)} + C_{2} \\cos{\\left(x \\right)}$"
      ],
      "text/plain": [
       "y(x) = C₁⋅sin(x) + C₂⋅cos(x)"
      ]
     },
     "execution_count": 114,
     "metadata": {},
     "output_type": "execute_result"
    }
   ],
   "source": [
    "Eq1=expand(dsolve(Eq0,y))\n",
    "Eq1"
   ]
  },
  {
   "cell_type": "code",
   "execution_count": 115,
   "id": "2dcf16b6-06a5-405f-9fb5-48b3e1aac6e0",
   "metadata": {},
   "outputs": [
    {
     "data": {
      "text/plain": [
       "'Eq(y(x), C1*sin(x) + C2*cos(x))'"
      ]
     },
     "execution_count": 115,
     "metadata": {},
     "output_type": "execute_result"
    }
   ],
   "source": [
    "str(Eq1)"
   ]
  },
  {
   "cell_type": "markdown",
   "id": "4452611d-8e91-4a01-b241-d6027fe9b6a8",
   "metadata": {},
   "source": [
    "# FOR GENERAL SOLUTION"
   ]
  },
  {
   "cell_type": "code",
   "execution_count": 116,
   "id": "5fab4d58-44c7-439d-8566-ebe62424362f",
   "metadata": {},
   "outputs": [
    {
     "data": {
      "image/png": "[encoded data removed]",
      "text/latex": [
       "$\\displaystyle 100 y{\\left(x \\right)} + 4 \\frac{d}{d x} y{\\left(x \\right)} + 2 \\frac{d^{2}}{d x^{2}} y{\\left(x \\right)} = 0$"
      ],
      "text/plain": [
       "                            2          \n",
       "             d             d           \n",
       "100⋅y(x) + 4⋅──(y(x)) + 2⋅───(y(x)) = 0\n",
       "             dx             2          \n",
       "                          dx           "
      ]
     },
     "execution_count": 116,
     "metadata": {},
     "output_type": "execute_result"
    }
   ],
   "source": [
    "Eq2 = Eq(2*d2ydx2+4*dydx+100*y,0)\n",
    "Eq2"
   ]
  },
  {
   "cell_type": "code",
   "execution_count": 117,
   "id": "88be57a6-6471-47ca-947b-e1a9f3406f05",
   "metadata": {},
   "outputs": [
    {
     "data": {
      "image/png": "[encoded data removed]",
      "text/latex": [
       "$\\displaystyle y{\\left(x \\right)} = C_{1} e^{- x} \\sin{\\left(7 x \\right)} + C_{2} e^{- x} \\cos{\\left(7 x \\right)}$"
      ],
      "text/plain": [
       "           -x                -x         \n",
       "y(x) = C₁⋅ℯ  ⋅sin(7⋅x) + C₂⋅ℯ  ⋅cos(7⋅x)"
      ]
     },
     "execution_count": 117,
     "metadata": {},
     "output_type": "execute_result"
    }
   ],
   "source": [
    "Eq3=expand( dsolve(Eq2, y) )\n",
    "Eq3"
   ]
  },
  {
   "cell_type": "code",
   "execution_count": 118,
   "id": "cfe69bfe-ac17-4788-a1e8-60a45d36ef8b",
   "metadata": {},
   "outputs": [
    {
     "data": {
      "text/plain": [
       "'Eq(y(x), C1*exp(-x)*sin(7*x) + C2*exp(-x)*cos(7*x))'"
      ]
     },
     "execution_count": 118,
     "metadata": {},
     "output_type": "execute_result"
    }
   ],
   "source": [
    "str(Eq3)"
   ]
  },
  {
   "cell_type": "markdown",
   "id": "5bf289e2-2a55-44c7-9937-8d2697865b46",
   "metadata": {},
   "source": [
    "# Substitute y=4, x=0, dydx=1"
   ]
  },
  {
   "cell_type": "code",
   "execution_count": 119,
   "id": "3ef11908-4ab0-4776-a897-c9b53808a075",
   "metadata": {},
   "outputs": [
    {
     "data": {
      "image/png": "[encoded data removed]",
      "text/latex": [
       "$\\displaystyle 3 = C_{2}$"
      ],
      "text/plain": [
       "3 = C₂"
      ]
     },
     "execution_count": 119,
     "metadata": {},
     "output_type": "execute_result"
    }
   ],
   "source": [
    "state1 = ( Eq3.subs(y, 3) ).subs(x, 0)\n",
    "state1"
   ]
  },
  {
   "cell_type": "code",
   "execution_count": 120,
   "id": "bbe7a7f3-568b-4f04-8924-47ebabbdc679",
   "metadata": {},
   "outputs": [
    {
     "data": {
      "image/png": "[encoded data removed]",
      "text/latex": [
       "$\\displaystyle 7 C_{1} - C_{2} = 1$"
      ],
      "text/plain": [
       "7⋅C₁ - C₂ = 1"
      ]
     },
     "execution_count": 120,
     "metadata": {},
     "output_type": "execute_result"
    }
   ],
   "source": [
    "state2 = Eq(( diff(Eq3.rhs, x) ),1).subs(x, 0)          #use Eq(2*d2ydx2+8*dydx+58*y,0) like this and substitude r.h.s with dydx=1\n",
    "state2"
   ]
  },
  {
   "cell_type": "code",
   "execution_count": 121,
   "id": "e053da03-72ff-4488-9bd7-82290d826022",
   "metadata": {},
   "outputs": [
    {
     "data": {
      "image/png": "[encoded data removed]",
      "text/latex": [
       "$\\displaystyle \\left[ \\left\\{ C_{1} : \\frac{4}{7}, \\  C_{2} : 3\\right\\}\\right]$"
      ],
      "text/plain": [
       "[{C₁: 4/7, C₂: 3}]"
      ]
     },
     "execution_count": 121,
     "metadata": {},
     "output_type": "execute_result"
    }
   ],
   "source": [
    "\n",
    "\n",
    "\n",
    "C = solve([state1, state2], [C1, C2], dict=True)\n",
    "C"
   ]
  },
  {
   "cell_type": "code",
   "execution_count": 122,
   "id": "6d192363-ebdd-4158-aae4-e271b7282fd8",
   "metadata": {},
   "outputs": [
    {
     "data": {
      "image/png": "[encoded data removed]",
      "text/latex": [
       "$\\displaystyle y{\\left(x \\right)} = \\frac{4 e^{- x} \\sin{\\left(7 x \\right)}}{7} + 3 e^{- x} \\cos{\\left(7 x \\right)}$"
      ],
      "text/plain": [
       "          -x                          \n",
       "       4⋅ℯ  ⋅sin(7⋅x)      -x         \n",
       "y(x) = ────────────── + 3⋅ℯ  ⋅cos(7⋅x)\n",
       "             7                        "
      ]
     },
     "execution_count": 122,
     "metadata": {},
     "output_type": "execute_result"
    }
   ],
   "source": [
    "Eq4=Eq3.subs([(C1,C[0][C1]),(C2,C[0][C2])])\n",
    "Eq4"
   ]
  },
  {
   "cell_type": "code",
   "execution_count": 123,
   "id": "745e4981-ca34-4ad7-8e83-f99254577101",
   "metadata": {},
   "outputs": [
    {
     "data": {
      "text/plain": [
       "'Eq(y(x), 4*exp(-x)*sin(7*x)/7 + 3*exp(-x)*cos(7*x))'"
      ]
     },
     "execution_count": 123,
     "metadata": {},
     "output_type": "execute_result"
    }
   ],
   "source": [
    "str(Eq4)"
   ]
  },
  {
   "cell_type": "code",
   "execution_count": null,
   "id": "36b8a304-a5d4-4483-9b62-9a3db803ab8e",
   "metadata": {},
   "outputs": [],
   "source": []
  },
  {
   "cell_type": "code",
   "execution_count": null,
   "id": "6bc7768b-0fb5-4564-9060-5e04940700b8",
   "metadata": {},
   "outputs": [],
   "source": []
  }
 ],
 "metadata": {
  "kernelspec": {
   "display_name": "Python 3 (ipykernel)",
   "language": "python",
   "name": "python3"
  },
  "language_info": {
   "codemirror_mode": {
    "name": "ipython",
    "version": 3
   },
   "file_extension": ".py",
   "mimetype": "text/x-python",
   "name": "python",
   "nbconvert_exporter": "python",
   "pygments_lexer": "ipython3",
   "version": "3.9.7"
  }
 },
 "nbformat": 4,
 "nbformat_minor": 5
}
